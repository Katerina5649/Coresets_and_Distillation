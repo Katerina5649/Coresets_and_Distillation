{
 "cells": [
  {
   "cell_type": "code",
   "execution_count": 2,
   "metadata": {},
   "outputs": [],
   "source": [
    "from __future__ import print_function\n",
    "import argparse\n",
    "import torch\n",
    "import torch.nn as nn\n",
    "import torch.nn.functional as F\n",
    "import torch.optim as optim\n",
    "from torchvision import datasets, transforms\n",
    "from torch.optim.lr_scheduler import StepLR\n",
    "import numpy as np\n",
    "\n",
    "from train_utils import *\n",
    "from ResNet import *"
   ]
  },
  {
   "cell_type": "markdown",
   "metadata": {},
   "source": [
    "## Cifar 10"
   ]
  },
  {
   "cell_type": "code",
   "execution_count": 3,
   "metadata": {},
   "outputs": [
    {
     "name": "stdout",
     "output_type": "stream",
     "text": [
      "Files already downloaded and verified\n",
      "Files already downloaded and verified\n"
     ]
    }
   ],
   "source": [
    "import torchvision\n",
    "import torchvision.transforms as transforms\n",
    "\n",
    "\n",
    "transform_train = transforms.Compose([\n",
    "    transforms.RandomCrop(32, padding=4),\n",
    "    transforms.RandomHorizontalFlip(),\n",
    "    transforms.ToTensor(),\n",
    "    transforms.Normalize((0.4914, 0.4822, 0.4465), (0.2023, 0.1994, 0.2010)),\n",
    "])\n",
    "\n",
    "transform_test = transforms.Compose([\n",
    "    transforms.ToTensor(),\n",
    "    transforms.Normalize((0.4914, 0.4822, 0.4465), (0.2023, 0.1994, 0.2010)),\n",
    "])\n",
    "\n",
    "trainset = torchvision.datasets.CIFAR10(\n",
    "    root='./data', train=True, download=True, transform=transform_train)\n",
    "\n",
    "testset = torchvision.datasets.CIFAR10(\n",
    "    root='./data', train=False, download=True, transform=transform_test)\n",
    "\n",
    "test_loader = torch.utils.data.DataLoader(testset, **test_kwargs)"
   ]
  },
  {
   "cell_type": "markdown",
   "metadata": {},
   "source": [
    "## Load indexes"
   ]
  },
  {
   "cell_type": "code",
   "execution_count": 4,
   "metadata": {},
   "outputs": [],
   "source": [
    "import numpy as np\n",
    "\n",
    "scores = np.load('cifar_forg.npy')"
   ]
  },
  {
   "cell_type": "code",
   "execution_count": 5,
   "metadata": {},
   "outputs": [],
   "source": [
    "from torch.utils.data import Dataset, DataLoader\n",
    "\n",
    "class IndexData(Dataset):\n",
    "    def __init__(self, dataset, scores_data, indices=None):\n",
    "        self.data = dataset\n",
    "        self.indices = (\n",
    "            indices if indices is not None else np.arange(len(dataset))\n",
    "        )\n",
    "        self.scores_data = scores_data\n",
    "\n",
    "    def __getitem__(self, index):\n",
    "        index = self.indices[index]\n",
    "        data, target = self.data[index]\n",
    "        return data, target, self.scores_data[index]\n",
    "\n",
    "    def __len__(self):\n",
    "        return len(self.indices)"
   ]
  },
  {
   "cell_type": "code",
   "execution_count": 6,
   "metadata": {},
   "outputs": [],
   "source": [
    "aver_random_acc_list = []\n",
    "aver_max_ind_ch_T_acc_list = []\n",
    "aver_random_ind_ch_T_acc_list = []\n",
    "aver_max_ind_const_T_acc_list = []\n",
    "aver_random_ind_const_T_acc_list = []"
   ]
  },
  {
   "cell_type": "code",
   "execution_count": 7,
   "metadata": {},
   "outputs": [],
   "source": [
    "def train_with_special_idx(trainset, test_loader, scores, idx):\n",
    "    teacher = ResNet18()\n",
    "    teacher.load_state_dict(torch.load(f'teacher.pt'))\n",
    "    teacher.to(device)\n",
    "    freeze_model(teacher)\n",
    "    \n",
    "    model = ResNet18()\n",
    "    model.load_state_dict(torch.load(f'resnet18.pt'))\n",
    "    model.eval()\n",
    "    model.to(device)\n",
    "    \n",
    "    indexData = IndexData(trainset, scores, idx)\n",
    "    idx_train_loader = torch.utils.data.DataLoader(indexData,**train_kwargs)\n",
    "    return train_with_teacher(model, teacher, idx_train_loader, test_loader, IS_CONST_T)"
   ]
  },
  {
   "cell_type": "code",
   "execution_count": null,
   "metadata": {},
   "outputs": [
    {
     "name": "stdout",
     "output_type": "stream",
     "text": [
      "200\n"
     ]
    },
    {
     "name": "stderr",
     "output_type": "stream",
     "text": [
      "/home/kate_t/anaconda3/lib/python3.8/site-packages/torch/nn/functional.py:2607: UserWarning: reduction: 'mean' divides the total loss by both the batch size and the support size.'batchmean' divides only by the batch size, and aligns with the KL div math definition.'mean' will be changed to behave the same as 'batchmean' in the next major release.\n",
      "  warnings.warn(\n"
     ]
    }
   ],
   "source": [
    "bs_list = [200, 1000, 2000, 3000, 4000, 5000]\n",
    "\n",
    "num_repeat = 1\n",
    "global IS_CONST_T\n",
    "for bs in bs_list:\n",
    "    print(bs)\n",
    "    random_ind_ch_T_acc_list = []\n",
    "    random_ind_const_T_acc_list = []\n",
    "    for _ in range(num_repeat):\n",
    "        random_indexes = np.random.choice(scores.argsort(), size=bs, replace=False)\n",
    "    \n",
    "        IS_CONST_T = True\n",
    "        random_idx_loss_const_T, random_idx_acc_const_T = train_with_special_idx(trainset, test_loader, scores, random_indexes)\n",
    "        \n",
    "    \n",
    "        IS_CONST_T = False\n",
    "        random_idx_loss, random_idx_acc = train_with_special_idx(trainset, test_loader, scores, random_indexes) \n",
    "    \n",
    "        random_ind_ch_T_acc_list.append(random_idx_acc[-1])\n",
    "        random_ind_const_T_acc_list.append(random_idx_acc_const_T[-1])\n",
    "        \n",
    "    aver_random_ind_ch_T_acc_list.append(np.mean(random_ind_ch_T_acc_list))\n",
    "    aver_random_ind_const_T_acc_list.append(np.mean(random_ind_const_T_acc_list))\n",
    "    "
   ]
  },
  {
   "cell_type": "code",
   "execution_count": null,
   "metadata": {},
   "outputs": [],
   "source": [
    "import numpy as np\n",
    "import matplotlib.pyplot as plt\n",
    "\n",
    "plt.plot(bs_list, random_ind_ch_T_acc_list, label = 'random_ind, T changed')\n",
    "plt.plot(bs_list, random_ind_const_T_acc_list, label = 'random_ind, T const')\n",
    "\n",
    "\n",
    "plt.title(f'Зависимость accuracy от размера подвыборки')\n",
    "plt.xlabel('bs')\n",
    "plt.ylabel('accuracy')\n",
    "plt.legend(loc = 'lower right')\n",
    "plt.show()"
   ]
  },
  {
   "cell_type": "code",
   "execution_count": null,
   "metadata": {},
   "outputs": [],
   "source": [
    "import numpy as np\n",
    "import matplotlib.pyplot as plt\n",
    "\n",
    "plt.plot(bs_list, max_ind_ch_T_acc_list, label = 'max_ind, T changed')\n",
    "plt.plot(bs_list, max_ind_const_T_acc_list, label = 'max_ind, T const')\n",
    "\n",
    "\n",
    "plt.title(f'Зависимость accuracy от размера подвыборки')\n",
    "plt.xlabel('bs')\n",
    "plt.ylabel('accuracy')\n",
    "plt.legend(loc = 'lower right')\n",
    "plt.show()"
   ]
  },
  {
   "cell_type": "code",
   "execution_count": null,
   "metadata": {},
   "outputs": [],
   "source": []
  },
  {
   "cell_type": "code",
   "execution_count": null,
   "metadata": {},
   "outputs": [],
   "source": []
  },
  {
   "cell_type": "code",
   "execution_count": null,
   "metadata": {},
   "outputs": [],
   "source": []
  },
  {
   "cell_type": "code",
   "execution_count": null,
   "metadata": {},
   "outputs": [],
   "source": []
  },
  {
   "cell_type": "code",
   "execution_count": null,
   "metadata": {},
   "outputs": [],
   "source": []
  },
  {
   "cell_type": "code",
   "execution_count": null,
   "metadata": {},
   "outputs": [],
   "source": []
  },
  {
   "cell_type": "code",
   "execution_count": null,
   "metadata": {},
   "outputs": [],
   "source": []
  },
  {
   "cell_type": "code",
   "execution_count": null,
   "metadata": {},
   "outputs": [],
   "source": []
  },
  {
   "cell_type": "code",
   "execution_count": null,
   "metadata": {},
   "outputs": [],
   "source": []
  },
  {
   "cell_type": "code",
   "execution_count": null,
   "metadata": {},
   "outputs": [],
   "source": []
  },
  {
   "cell_type": "code",
   "execution_count": null,
   "metadata": {},
   "outputs": [],
   "source": []
  },
  {
   "cell_type": "code",
   "execution_count": null,
   "metadata": {},
   "outputs": [],
   "source": []
  },
  {
   "cell_type": "code",
   "execution_count": null,
   "metadata": {},
   "outputs": [],
   "source": []
  },
  {
   "cell_type": "code",
   "execution_count": null,
   "metadata": {},
   "outputs": [],
   "source": []
  },
  {
   "cell_type": "code",
   "execution_count": null,
   "metadata": {},
   "outputs": [],
   "source": []
  },
  {
   "cell_type": "code",
   "execution_count": null,
   "metadata": {},
   "outputs": [],
   "source": []
  },
  {
   "cell_type": "code",
   "execution_count": null,
   "metadata": {},
   "outputs": [],
   "source": []
  },
  {
   "cell_type": "code",
   "execution_count": null,
   "metadata": {},
   "outputs": [],
   "source": []
  },
  {
   "cell_type": "code",
   "execution_count": null,
   "metadata": {},
   "outputs": [],
   "source": []
  },
  {
   "cell_type": "code",
   "execution_count": null,
   "metadata": {},
   "outputs": [],
   "source": []
  },
  {
   "cell_type": "code",
   "execution_count": null,
   "metadata": {},
   "outputs": [],
   "source": []
  },
  {
   "cell_type": "code",
   "execution_count": null,
   "metadata": {},
   "outputs": [],
   "source": []
  },
  {
   "cell_type": "code",
   "execution_count": null,
   "metadata": {},
   "outputs": [],
   "source": []
  }
 ],
 "metadata": {
  "kernelspec": {
   "display_name": "Python 3",
   "language": "python",
   "name": "python3"
  },
  "language_info": {
   "codemirror_mode": {
    "name": "ipython",
    "version": 3
   },
   "file_extension": ".py",
   "mimetype": "text/x-python",
   "name": "python",
   "nbconvert_exporter": "python",
   "pygments_lexer": "ipython3",
   "version": "3.8.5"
  }
 },
 "nbformat": 4,
 "nbformat_minor": 4
}
