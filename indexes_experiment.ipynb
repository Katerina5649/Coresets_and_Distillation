{
 "cells": [
  {
   "cell_type": "code",
   "execution_count": 1,
   "metadata": {},
   "outputs": [],
   "source": [
    "import torch\n",
    "batch_size = 512\n",
    "epochs = 100\n",
    "device = torch.device(\"cuda:0\")\n",
    "bs_list = [1000, 2000, 3000, 5000, 10000, 20000]"
   ]
  },
  {
   "cell_type": "code",
   "execution_count": 2,
   "metadata": {},
   "outputs": [
    {
     "name": "stdout",
     "output_type": "stream",
     "text": [
      "Files already downloaded and verified\n",
      "Files already downloaded and verified\n"
     ]
    }
   ],
   "source": [
    "import torchvision\n",
    "import torchvision.transforms as transforms\n",
    "#from torchvision.models.resnet import resnet18\n",
    "import torch\n",
    "from ResNet import *\n",
    "\n",
    "\n",
    "transform_train = transforms.Compose([\n",
    "    transforms.RandomCrop(32, padding=4),\n",
    "    transforms.RandomHorizontalFlip(),\n",
    "    transforms.ToTensor(),\n",
    "    transforms.Normalize((0.4914, 0.4822, 0.4465), (0.2023, 0.1994, 0.2010)),\n",
    "])\n",
    "\n",
    "transform_test = transforms.Compose([\n",
    "    transforms.ToTensor(),\n",
    "    transforms.Normalize((0.4914, 0.4822, 0.4465), (0.2023, 0.1994, 0.2010)),\n",
    "])\n",
    "\n",
    "trainset = torchvision.datasets.CIFAR10(\n",
    "    root='./data', train=True, download=True, transform=transform_train)\n",
    "trainloader = torch.utils.data.DataLoader(trainset, batch_size=batch_size, shuffle=True)\n",
    "\n",
    "testset = torchvision.datasets.CIFAR10(\n",
    "    root='./data', train=False, download=True, transform=transform_test)\n",
    "\n",
    "testloader = torch.utils.data.DataLoader(testset, batch_size=100, shuffle=False)\n"
   ]
  },
  {
   "cell_type": "code",
   "execution_count": 3,
   "metadata": {},
   "outputs": [],
   "source": [
    "import torch.nn as nn\n",
    "\n",
    "class Loss(object):\n",
    "    '''\n",
    "    Class for counting loss\n",
    "    '''\n",
    "\n",
    "    def __init__(self, scores = None, is_adaptive = False, adaptive_type = 'mean'):\n",
    "        self.scores = scores\n",
    "        self.is_adaptive = is_adaptive\n",
    "        self.adaptive_type = adaptive_type\n",
    "        self.alpha = 0.5\n",
    "        self.max_T = 200\n",
    "        self.min_T = 10\n",
    "        \n",
    "    def get_T(self, data_scores):\n",
    "        max_T = self.max_T\n",
    "        min_T = self.min_T\n",
    "        max_index = self.scores.max().cpu()\n",
    "        if self.is_adaptive :\n",
    "            T = (max_T - min_T) / max_index * data_scores.cpu()\n",
    "            if self.adaptive_type == 'mean':\n",
    "                return T.mean().int()\n",
    "            if self.adaptive_type == 'full':\n",
    "                return T.int()\n",
    "            if self.adaptive_type == 'max':\n",
    "                return T.max().int()\n",
    "        return torch.Tensor([100]) \n",
    "    \n",
    "    def calculate_loss(self, outputs, labels, teacher_output = None, data_scores = None, device = torch.device(\"cuda:0\")):\n",
    "        if self.scores is None:\n",
    "            return nn.CrossEntropyLoss()(outputs, labels)\n",
    "        else :\n",
    "            T = self.get_T(data_scores).int()\n",
    "            if self.adaptive_type == 'full' :\n",
    "                h, w = outputs.shape\n",
    "                T = [T.tolist()]*w\n",
    "                T = torch.Tensor(T)\n",
    "                T = torch.reshape(torch.Tensor(T),(h, w))\n",
    "                T_mean = T.mean()\n",
    "            else:\n",
    "                T_mean = T\n",
    "                \n",
    "            T[T < self.min_T] = self.min_T\n",
    "            T = T.to(device)\n",
    "\n",
    "            T_mean = T_mean.to(device)\n",
    "            \n",
    "            T.requires_grad = False\n",
    "            T_mean.requires_grad = False\n",
    "            \n",
    "            model_output = outputs / T\n",
    "            teacher_output = teacher_output / T\n",
    "            KD_loss = nn.KLDivLoss()(F.log_softmax(model_output, dim=1),\n",
    "                             F.softmax(teacher_output, dim=1)) * (self.alpha * T_mean * T_mean) + \\\n",
    "              F.cross_entropy(outputs, labels) * (1. - self.alpha)\n",
    "            return KD_loss\n",
    "        \n",
    "    "
   ]
  },
  {
   "cell_type": "code",
   "execution_count": 4,
   "metadata": {},
   "outputs": [],
   "source": [
    "import numpy as np\n",
    "import torch.optim as optim\n",
    "from IPython.display import clear_output\n",
    "import matplotlib.pyplot as plt\n",
    "\n",
    "def freeze_model(model):\n",
    "    for param in model.parameters():\n",
    "        param.requires_grad = False\n",
    "\n",
    "def test(model, test_loader, device):\n",
    "    acc = 0\n",
    "    for x, labels in test_loader:\n",
    "        x, labels = x.to(device), labels.to(device)\n",
    "        outputs = model(x)\n",
    "        pred = outputs.argmax(dim=1, keepdim=True) \n",
    "        acc += pred.eq(labels.view_as(pred)).sum().item()\n",
    "    acc = acc / len(test_loader.dataset)\n",
    "    \n",
    "    return acc\n",
    "\n",
    "def train_and_validate(model, train_loader, test_loader, epochs, device):\n",
    "    model.eval()\n",
    "    lr = 0.1\n",
    "    optimizer = optim.SGD(model.parameters(), lr=lr,\n",
    "                      momentum=0.9, weight_decay=5e-4)\n",
    "    scheduler = torch.optim.lr_scheduler.CosineAnnealingLR(optimizer, T_max=200)\n",
    "    \n",
    "    loss_per_epoch_list = []\n",
    "    loss_function = Loss()\n",
    "    \n",
    "    for epoch in range(epochs):\n",
    "        loss_list = []    \n",
    "            \n",
    "        for x, labels in train_loader:\n",
    "            x, labels = x.to(device), labels.to(device)\n",
    "            \n",
    "            optimizer.zero_grad()\n",
    "            outputs = model(x)\n",
    "            loss = loss_function.calculate_loss(outputs, labels)\n",
    "            loss.backward()\n",
    "            optimizer.step()\n",
    "            loss_list.append(loss.item())\n",
    "    \n",
    "        loss_per_epoch_list.append(np.mean(loss_list))\n",
    "        scheduler.step()\n",
    "        \n",
    "        clear_output(wait=False)\n",
    "        plt.plot(loss_per_epoch_list)\n",
    "        plt.show()\n",
    "        \n",
    "    return loss_per_epoch_list, test(model, test_loader, device)\n",
    "    \n",
    "            \n",
    "        \n",
    "def train_and_validate_with_teacher_and_scores(model, teacher, scores, train_loader, test_loader, epochs, device, is_adaptive = True, adaptive_type = 'mean'):\n",
    "    model.eval()\n",
    "    lr = 0.1\n",
    "    optimizer = optim.SGD(model.parameters(), lr=lr, momentum=0.9)\n",
    "    \n",
    "    loss_per_epoch_list = []\n",
    "    loss_function = Loss(scores = scores, is_adaptive = is_adaptive, adaptive_type = adaptive_type)\n",
    "    \n",
    "    for epoch in range(epochs):\n",
    "        loss_list = []  \n",
    "        print(f'{epoch + 1} / {epochs}')\n",
    "        \n",
    "        if epoch > 0 and epoch % 40 == 0:\n",
    "            lr = lr * 0.1\n",
    "            optimizer = optim.SGD(model.parameters(), lr=lr, momentum=0.9)\n",
    "            \n",
    "            \n",
    "        for x, labels, score in train_loader:\n",
    "            x, labels = x.to(device), labels.to(device)\n",
    "            \n",
    "            optimizer.zero_grad()\n",
    "            outputs = model(x)\n",
    "            \n",
    "            teacher_output = teacher(x)\n",
    "            loss = loss_function.calculate_loss(outputs, labels, teacher_output, score).cpu()\n",
    "            print(loss)\n",
    "            loss.backward()\n",
    "            optimizer.step()\n",
    "            loss_list.append(loss.item())\n",
    "    \n",
    "        loss_per_epoch_list.append(np.mean(loss_list))\n",
    "        \n",
    "        clear_output(wait=False)\n",
    "        plt.plot(loss_per_epoch_list)\n",
    "        plt.title(adaptive_type if is_adaptive else 'const' )\n",
    "        plt.show()\n",
    "        \n",
    "    return loss_per_epoch_list, test(model, test_loader, device)"
   ]
  },
  {
   "cell_type": "markdown",
   "metadata": {},
   "source": [
    "## Train simple model"
   ]
  },
  {
   "cell_type": "markdown",
   "metadata": {},
   "source": [
    "train teacher"
   ]
  },
  {
   "cell_type": "code",
   "execution_count": null,
   "metadata": {},
   "outputs": [
    {
     "data": {
      "image/png": "[encoded data removed]",
      "text/plain": [
       "<Figure size 432x288 with 1 Axes>"
      ]
     },
     "metadata": {
      "needs_background": "light"
     },
     "output_type": "display_data"
    }
   ],
   "source": [
    "#device = torch.device(\"cuda:0\")\n",
    "\n",
    "testloader = torch.utils.data.DataLoader(testset, batch_size=100, shuffle=False)\n",
    "\n",
    "teacher_loss_list = []\n",
    "teacher_acc_list  = []\n",
    "for bs in bs_list:\n",
    "    model = ResNet18()\n",
    "    model.load_state_dict(torch.load('ResNet18_student.pt'))\n",
    "    model.to(device)\n",
    "    model.train()\n",
    "    \n",
    "    bs_trainset, _ = torch.utils.data.random_split(trainset, [bs, trainset.__len__() - bs])\n",
    "    trainloader = torch.utils.data.DataLoader(bs_trainset, batch_size=batch_size, shuffle=True)\n",
    "    loss_per_epoch_list, acc = train_and_validate(model, trainloader, testloader, epochs, device)\n",
    "    teacher_loss_list.append(loss_per_epoch_list[-1])\n",
    "    teacher_acc_list.append(acc)\n",
    "\n",
    "#torch.save(model.state_dict(), 'ResNet18_teacher.pt')"
   ]
  },
  {
   "cell_type": "markdown",
   "metadata": {},
   "source": [
    "## Train with teacher and scores"
   ]
  },
  {
   "cell_type": "code",
   "execution_count": null,
   "metadata": {},
   "outputs": [],
   "source": [
    "import numpy as np\n",
    "\n",
    "scores = torch.Tensor(np.load('cifar_forg.npy')).to(device)\n",
    "\n",
    "teacher = ResNet18()\n",
    "teacher.load_state_dict(torch.load(f'ResNet18_teacher.pt')) \n",
    "teacher.to(device)\n",
    "teacher.eval()\n",
    "freeze_model(teacher)\n",
    "test(teacher, testloader, device)"
   ]
  },
  {
   "cell_type": "code",
   "execution_count": null,
   "metadata": {},
   "outputs": [],
   "source": [
    "from torch.utils.data import Dataset, DataLoader\n",
    "\n",
    "class IndexData(Dataset):\n",
    "    def __init__(self, dataset, scores_data, indices=None):\n",
    "        self.data = dataset\n",
    "        self.indices = (\n",
    "            indices if indices is not None else np.arange(len(dataset))\n",
    "        )\n",
    "        self.scores_data = scores_data\n",
    "\n",
    "    def __getitem__(self, index):\n",
    "        index = self.indices[index]\n",
    "        data, target = self.data[index]\n",
    "        return data, target, self.scores_data[index]\n",
    "\n",
    "    def __len__(self):\n",
    "        return len(self.indices)"
   ]
  },
  {
   "cell_type": "code",
   "execution_count": null,
   "metadata": {},
   "outputs": [],
   "source": [
    "def train_with_idx(indexData, adaptive_type):\n",
    "    trainloader = torch.utils.data.DataLoader(indexData, batch_size=batch_size, shuffle=True)\n",
    "    model = ResNet18()\n",
    "    model.load_state_dict(torch.load('ResNet18_student.pt'))\n",
    "    model.to(device)\n",
    "    model.train()\n",
    "    \n",
    "    loss, acc = train_and_validate_with_teacher_and_scores(model, teacher, scores, trainloader, testloader, epochs, device, is_adaptive = True, adaptive_type = adaptive_type)\n",
    "    return loss, acc"
   ]
  },
  {
   "cell_type": "code",
   "execution_count": null,
   "metadata": {},
   "outputs": [],
   "source": [
    "\n",
    "acc_list = {}\n",
    "loss_list = {}\n",
    "\n",
    "\n",
    "acc_list['mean'] = []\n",
    "loss_list['mean'] = []\n",
    "\n",
    "acc_list['full'] = []\n",
    "loss_list['full'] = []\n",
    "\n",
    "acc_list['const'] = []\n",
    "loss_list['const'] = []\n",
    "\n",
    "for bs in bs_list:\n",
    "    print(bs)\n",
    "    random_indexes = np.random.choice(range(scores.shape[0]), size=bs, replace=False)\n",
    "    indexData = IndexData(trainset, scores, random_indexes)\n",
    "\n",
    "    # берем температуру как среднее\n",
    "    adaptive_type = 'mean'\n",
    "    loss, acc = train_with_idx(indexData, adaptive_type)\n",
    "    acc_list[adaptive_type].append(acc)\n",
    "    loss_list[adaptive_type].append(loss[-1])\n",
    "    \n",
    "    # не меняем температуру\n",
    "    adaptive_type = 'const'\n",
    "    loss, acc = train_with_idx(indexData, adaptive_type)\n",
    "    acc_list[adaptive_type].append(acc)\n",
    "    loss_list[adaptive_type].append(loss[-1])\n",
    "    \n",
    "    # считаем для каждого объекта свою температуру\n",
    "    adaptive_type = 'full'\n",
    "    loss, acc = train_with_idx(indexData, adaptive_type)\n",
    "    acc_list[adaptive_type].append(acc)\n",
    "    loss_list[adaptive_type].append(loss[-1])\n",
    "    "
   ]
  },
  {
   "cell_type": "code",
   "execution_count": 14,
   "metadata": {},
   "outputs": [
    {
     "data": {
      "image/png": "[encoded data removed]",
      "text/plain": [
       "<Figure size 432x288 with 1 Axes>"
      ]
     },
     "metadata": {
      "needs_background": "light"
     },
     "output_type": "display_data"
    }
   ],
   "source": [
    "plt.plot(bs_list[:5], acc_list['mean'], label = 'mean')\n",
    "plt.plot(bs_list[:5], acc_list['const'], label = 'const')\n",
    "plt.plot(bs_list[:5], acc_list['full'], label = 'full')\n",
    "plt.plot(bs_list[:5], teacher_acc_list[:5], label = 'teacher')\n",
    "plt.legend()\n",
    "plt.xlabel('bs')\n",
    "plt.ylabel('accuracy')\n",
    "plt.show()"
   ]
  },
  {
   "cell_type": "code",
   "execution_count": null,
   "metadata": {},
   "outputs": [],
   "source": []
  }
 ],
 "metadata": {
  "kernelspec": {
   "display_name": "Python 3",
   "language": "python",
   "name": "python3"
  },
  "language_info": {
   "codemirror_mode": {
    "name": "ipython",
    "version": 3
   },
   "file_extension": ".py",
   "mimetype": "text/x-python",
   "name": "python",
   "nbconvert_exporter": "python",
   "pygments_lexer": "ipython3",
   "version": "3.8.5"
  }
 },
 "nbformat": 4,
 "nbformat_minor": 4
}
