{
 "cells": [
  {
   "cell_type": "code",
   "execution_count": 2,
   "metadata": {},
   "outputs": [],
   "source": [
    "import torch\n",
    "batch_size = 64\n",
    "epochs = 100\n",
    "device = torch.device(\"cuda:0\")\n",
    "bs_list = [1000, 3000, 5000, 7000, 9000, 11000, 13000, 15000, 17000]"
   ]
  },
  {
   "cell_type": "code",
   "execution_count": 3,
   "metadata": {},
   "outputs": [],
   "source": [
    "import torchvision\n",
    "import torchvision.transforms as transforms\n",
    "import torch\n",
    "from cnn_mnist import *\n",
    "import pandas as pd\n",
    "import numpy as np\n",
    "from torch.utils.data import Dataset, DataLoader\n",
    "\n",
    "\n",
    "class FashionDataset(Dataset):    \n",
    "    def __init__(self, data, scores_data=None, indices=None, transform = transforms.Compose([transforms.ToTensor()])):\n",
    "        if indices is None:\n",
    "            self.fashion_MNIST = data.values\n",
    "            self.scores_data = scores_data\n",
    "        else:\n",
    "            self.fashion_MNIST = data.values[indices]\n",
    "            self.scores_data = scores_data[indices] if scores_data is not None else None\n",
    "            \n",
    "        self.transform = transform\n",
    "        \n",
    "        \n",
    "        label = []\n",
    "        image = []\n",
    "        \n",
    "        for i in self.fashion_MNIST:\n",
    "            label.append(i[0])\n",
    "            image.append(i[1:])\n",
    "        self.targets = np.asarray(label)\n",
    "        # Dimension of Images = 28 * 28 * 1. where height = width = 28 and color_channels = 1.\n",
    "        self.images = np.asarray(image).reshape(-1, 28, 28, 1).astype('float32')\n",
    "\n",
    "    def __getitem__(self, index):\n",
    "\n",
    "            \n",
    "        label = self.targets[index]\n",
    "        image = self.images[index]\n",
    "        image = self.transform(image)\n",
    "        \n",
    "        if self.scores_data is not None:\n",
    "            return image, label, self.scores_data[index]\n",
    "        return image, label\n",
    "\n",
    "    def __len__(self):\n",
    "        return len(self.images)\n",
    "\n",
    "trainset_csv = pd.read_csv(\"fashion-mnist_train.csv\")\n",
    "testset_csv = pd.read_csv(\"fashion-mnist_test.csv\")\n",
    "\n",
    "testset = FashionDataset(testset_csv)\n",
    "#trainset = FashionDataset(trainset)\n",
    "\n",
    "testloader = torch.utils.data.DataLoader(testset, batch_size=100, shuffle=False)"
   ]
  },
  {
   "cell_type": "code",
   "execution_count": 4,
   "metadata": {},
   "outputs": [],
   "source": [
    "import numpy as np\n",
    "# Уберем сложные примеры\n",
    "scores = torch.Tensor(np.load('values.npy'))\n",
    "complex_idx = np.where(scores > 0.)[0]\n",
    "\n",
    "#trainset = torch.utils.data.Subset(trainset, complex_idx)\n",
    "#trainset.values = trainset.values[complex_idx]\n",
    "trainset = FashionDataset(trainset_csv, indices = complex_idx)\n",
    "#trainset.images = trainset.images[complex_idx]\n",
    "#trainset.targets = trainset.targets[complex_idx]\n",
    "#trainset.indices = trainset.indices[complex_idx]"
   ]
  },
  {
   "cell_type": "code",
   "execution_count": 5,
   "metadata": {},
   "outputs": [],
   "source": [
    "import torch.nn as nn\n",
    "\n",
    "class Loss(object):\n",
    "    '''\n",
    "    Class for counting loss\n",
    "    '''\n",
    "\n",
    "    def __init__(self, scores = None, is_adaptive = False, adaptive_type = 'mean'):\n",
    "        self.scores = scores\n",
    "        self.is_adaptive = is_adaptive\n",
    "        self.adaptive_type = adaptive_type\n",
    "        self.alpha = 0.8\n",
    "        self.max_T = 200\n",
    "        self.min_T = 1\n",
    "        if scores is not None:\n",
    "            self.max_index = self.scores.max().cpu()      \n",
    "        \n",
    "    def get_T(self, data_scores):\n",
    "        max_T = self.max_T\n",
    "        min_T = self.min_T\n",
    "        \n",
    "        if self.is_adaptive :\n",
    "            T = (max_T - min_T) / self.max_index * data_scores.cpu()\n",
    "            if self.adaptive_type == 'mean':\n",
    "                return T.mean().int()\n",
    "            if self.adaptive_type == 'full':\n",
    "                return T.int()\n",
    "            if self.adaptive_type == 'max':\n",
    "                return T.max().int()\n",
    "        return torch.Tensor([29])\n",
    "    \n",
    "    \n",
    "    def calculate_loss(self, outputs, labels, teacher_output = None, data_scores = None, device = torch.device(\"cuda:0\")):\n",
    "        if self.scores is None:\n",
    "            return nn.CrossEntropyLoss()(outputs, labels)\n",
    "        else :\n",
    "            T = self.get_T(data_scores).int()\n",
    "            if self.adaptive_type == 'full' :\n",
    "                T = torch.unsqueeze(T, dim = 1)\n",
    "            T[T < self.min_T] = self.min_T\n",
    "            T = T.to(device)\n",
    "\n",
    "            #T_mean = T_mean.to(device)\n",
    "            \n",
    "            T.requires_grad = False\n",
    "            #T_mean.requires_grad = False\n",
    "            \n",
    "            model_output = outputs / T\n",
    "            teacher_output = teacher_output / T\n",
    "            KD_loss = (nn.KLDivLoss(reduction = 'none')(F.log_softmax( outputs / T, dim=1),F.softmax(teacher_output / T, dim=1))* (self.alpha* T * T)).mean() + \\\n",
    "            F.cross_entropy(outputs, labels) * (1. - self.alpha)\n",
    "            return KD_loss\n",
    "        \n",
    "    "
   ]
  },
  {
   "cell_type": "code",
   "execution_count": 6,
   "metadata": {},
   "outputs": [],
   "source": [
    "import numpy as np\n",
    "import torch.optim as optim\n",
    "from IPython.display import clear_output\n",
    "import matplotlib.pyplot as plt\n",
    "\n",
    "def freeze_model(model):\n",
    "    for param in model.parameters():\n",
    "        param.requires_grad = False\n",
    "\n",
    "def test(model, test_loader, device):\n",
    "    acc = 0\n",
    "    for x, labels in test_loader:\n",
    "        x, labels = x.to(device), labels.to(device)\n",
    "        outputs = model(x)\n",
    "        pred = outputs.argmax(dim=1, keepdim=True) \n",
    "        acc += pred.eq(labels.view_as(pred)).sum().item()\n",
    "    acc = acc / len(test_loader.dataset)\n",
    "    \n",
    "    return acc\n",
    "\n",
    "def train_and_validate(model, train_loader, test_loader, epochs, device):\n",
    "    model.train()\n",
    "    lr = 0.01\n",
    "    optimizer = optim.SGD(model.parameters(), lr=lr,\n",
    "                      momentum=0.9, weight_decay=5e-4)\n",
    "    scheduler = torch.optim.lr_scheduler.CosineAnnealingLR(optimizer, T_max=200)\n",
    "    \n",
    "    loss_per_epoch_list = []\n",
    "    loss_function = Loss()\n",
    "    \n",
    "    for epoch in range(epochs):\n",
    "        loss_list = []    \n",
    "            \n",
    "        for x, labels in train_loader:\n",
    "            x, labels = x.to(device), labels.to(device)\n",
    "            \n",
    "            optimizer.zero_grad()\n",
    "            outputs = model(x)\n",
    "            loss = loss_function.calculate_loss(outputs, labels)\n",
    "            loss.backward()\n",
    "            optimizer.step()\n",
    "            loss_list.append(loss.item())\n",
    "    \n",
    "        loss_per_epoch_list.append(np.mean(loss_list))\n",
    "        scheduler.step()\n",
    "        \n",
    "        if epoch > 0 and epoch % 20 == 0:\n",
    "            clear_output(wait=True)\n",
    "            plt.plot(loss_per_epoch_list)\n",
    "            plt.show()\n",
    "        \n",
    "    return loss_per_epoch_list, test(model, test_loader, device)\n",
    "    \n",
    "            \n",
    "        \n",
    "def train_and_validate_with_teacher_and_scores(model, teacher, scores, train_loader, test_loader, epochs, device, is_adaptive = True, adaptive_type = 'mean', max_score = None):\n",
    "    model.train()\n",
    "    lr = 0.01\n",
    "    optimizer = optim.SGD(model.parameters(), lr=lr,\n",
    "                      momentum=0.9, weight_decay=5e-4)\n",
    "    scheduler = torch.optim.lr_scheduler.CosineAnnealingLR(optimizer, T_max=200)\n",
    "    \n",
    "    loss_per_epoch_list = []\n",
    "    loss_function = Loss(scores = scores, is_adaptive = is_adaptive, adaptive_type = adaptive_type)\n",
    "    \n",
    "    for epoch in range(epochs):\n",
    "        loss_list = []          \n",
    "            \n",
    "        for x, labels, score in train_loader:\n",
    "            if max_score is not None:\n",
    "                score[score > max_score] = int((max_score / 2))\n",
    "            x, labels = x.to(device), labels.to(device)\n",
    "            \n",
    "            optimizer.zero_grad()\n",
    "            outputs = model(x)\n",
    "            \n",
    "            teacher_output = teacher(x)\n",
    "            loss = loss_function.calculate_loss(outputs, labels, teacher_output, score).cpu()\n",
    "            loss.backward()\n",
    "            optimizer.step()\n",
    "            loss_list.append(loss.item())\n",
    "    \n",
    "        loss_per_epoch_list.append(np.mean(loss_list))\n",
    "        scheduler.step()\n",
    "        \n",
    "        if epoch > 0 and epoch % 20 == 0:\n",
    "            clear_output(wait=True)\n",
    "            plt.plot(loss_per_epoch_list)\n",
    "            plt.title(adaptive_type if is_adaptive else 'const' )\n",
    "            plt.show()\n",
    "        \n",
    "    return loss_per_epoch_list, test(model, test_loader, device)"
   ]
  },
  {
   "cell_type": "markdown",
   "metadata": {},
   "source": [
    "## Train simple model"
   ]
  },
  {
   "cell_type": "markdown",
   "metadata": {},
   "source": [
    "train teacher"
   ]
  },
  {
   "cell_type": "code",
   "execution_count": 7,
   "metadata": {},
   "outputs": [],
   "source": [
    "#model = FashionCNN()\n",
    "#torch.save(model.state_dict(), 'FashionCNN_student.pt')"
   ]
  },
  {
   "cell_type": "code",
   "execution_count": 8,
   "metadata": {},
   "outputs": [],
   "source": [
    "# train teacher\n",
    "#model = FashionCNN()\n",
    "#model.to(device)\n",
    "#model.train()\n",
    "#trainloader = torch.utils.data.DataLoader(trainset, batch_size=batch_size, shuffle=True)\n",
    "#loss, acc = train_and_validate(model, trainloader, testloader, epochs, device)\n",
    "#torch.save(model.state_dict(), 'FashionCNN_teacher.pt')"
   ]
  },
  {
   "cell_type": "code",
   "execution_count": 9,
   "metadata": {},
   "outputs": [
    {
     "data": {
      "image/png": "[encoded data removed]",
      "text/plain": [
       "<Figure size 432x288 with 1 Axes>"
      ]
     },
     "metadata": {
      "needs_background": "light"
     },
     "output_type": "display_data"
    }
   ],
   "source": [
    "teacher_loss_list = []\n",
    "teacher_acc_list  = []\n",
    "for bs in bs_list:\n",
    "    model = FashionCNN()\n",
    "    model.load_state_dict(torch.load('FashionCNN_student.pt'))\n",
    "    model.to(device)\n",
    "    model.train()\n",
    "    \n",
    "    random_indexes = np.random.choice(complex_idx, size=bs, replace=False)\n",
    "    indexData =  FashionDataset(trainset_csv,indices = random_indexes)\n",
    "    trainloader = torch.utils.data.DataLoader(indexData, batch_size=batch_size, shuffle=True)\n",
    "    \n",
    "    loss_per_epoch_list, acc = train_and_validate(model, trainloader, testloader, epochs, device)\n",
    "    teacher_loss_list.append(loss_per_epoch_list[-1])\n",
    "    teacher_acc_list.append(acc)\n",
    "\n",
    "#torch.save(model.state_dict(), 'ResNet18_teacher.pt')"
   ]
  },
  {
   "cell_type": "markdown",
   "metadata": {},
   "source": [
    "## Train with teacher and scores"
   ]
  },
  {
   "cell_type": "code",
   "execution_count": 10,
   "metadata": {},
   "outputs": [
    {
     "data": {
      "text/plain": [
       "0.9"
      ]
     },
     "execution_count": 10,
     "metadata": {},
     "output_type": "execute_result"
    }
   ],
   "source": [
    "import numpy as np\n",
    "\n",
    "scores = torch.Tensor(np.load('values.npy')).to(device)\n",
    "\n",
    "teacher = FashionCNN()\n",
    "teacher.load_state_dict(torch.load(f'FashionCNN_teacher_reduced_dataset.pt')) \n",
    "teacher.to(device)\n",
    "teacher.eval()\n",
    "freeze_model(teacher)\n",
    "test(teacher, testloader, device)"
   ]
  },
  {
   "cell_type": "code",
   "execution_count": 11,
   "metadata": {},
   "outputs": [],
   "source": [
    "from torch.utils.data import Dataset, DataLoader\n",
    "\n",
    "class IndexData(Dataset):\n",
    "    def __init__(self, dataset, scores_data, indices=None):\n",
    "        self.data = dataset\n",
    "        self.indices = (\n",
    "            indices if indices is not None else np.arange(len(dataset))\n",
    "        )\n",
    "        self.scores_data = scores_data\n",
    "\n",
    "    def __getitem__(self, index):\n",
    "        index = self.indices[index]\n",
    "        data, target = self.data[index]\n",
    "        return data, target, self.scores_data[index]\n",
    "\n",
    "    def __len__(self):\n",
    "        return len(self.indices)"
   ]
  },
  {
   "cell_type": "code",
   "execution_count": 12,
   "metadata": {},
   "outputs": [],
   "source": [
    "def train_with_idx(indexes, adaptive_type):\n",
    "    \n",
    "    model = FashionCNN()\n",
    "    model.load_state_dict(torch.load('FashionCNN_student.pt'))\n",
    "    model.to(device)\n",
    "    model.train()\n",
    "    \n",
    "    indexData =  FashionDataset(trainset_csv, scores_data = scores,indices = indexes)\n",
    "    trainloader = torch.utils.data.DataLoader(indexData, batch_size=batch_size, shuffle=True)\n",
    "    \n",
    "    loss, acc = train_and_validate_with_teacher_and_scores(model, teacher, scores, trainloader, testloader, epochs, device, is_adaptive = True, adaptive_type = adaptive_type)\n",
    "    return loss, acc"
   ]
  },
  {
   "cell_type": "code",
   "execution_count": 13,
   "metadata": {},
   "outputs": [
    {
     "data": {
      "image/png": "[encoded data removed]",
      "text/plain": [
       "<Figure size 432x288 with 1 Axes>"
      ]
     },
     "metadata": {
      "needs_background": "light"
     },
     "output_type": "display_data"
    }
   ],
   "source": [
    "average_acc_list = {}\n",
    "average_loss_list = {}\n",
    "\n",
    "average_acc_list['mean'] = []\n",
    "average_loss_list['mean'] = []\n",
    "\n",
    "average_acc_list['full'] = []\n",
    "average_loss_list['full'] = []\n",
    "\n",
    "average_acc_list['const_mean'] = []\n",
    "average_loss_list['const_mean'] = []\n",
    "\n",
    "\n",
    "num_repeat = 3\n",
    "\n",
    "for bs in bs_list:\n",
    "    print(bs)\n",
    "    acc_list = {}\n",
    "    loss_list = {}\n",
    "\n",
    "    acc_list['mean'] = []\n",
    "    loss_list['mean'] = []\n",
    "    \n",
    "    acc_list['full'] = []\n",
    "    loss_list['full'] = []\n",
    "    \n",
    "    acc_list['const_mean'] = []\n",
    "    loss_list['const_mean'] = []\n",
    "    \n",
    "    for i in range(num_repeat):\n",
    "        indexes = np.random.choice(complex_idx, size=bs, replace=False)\n",
    "        \n",
    "        # считаем для каждого объекта свою температуру\n",
    "        adaptive_type = 'full'\n",
    "        loss, acc = train_with_idx(indexes, adaptive_type)\n",
    "        acc_list[adaptive_type].append(acc)\n",
    "        loss_list[adaptive_type].append(loss[-1])\n",
    "        \n",
    "    \n",
    "        # берем температуру как среднее\n",
    "        adaptive_type = 'mean'\n",
    "        loss, acc = train_with_idx(indexes, adaptive_type)\n",
    "        acc_list[adaptive_type].append(acc)\n",
    "        loss_list[adaptive_type].append(loss[-1])\n",
    "        \n",
    "        # не меняем температуру\n",
    "        adaptive_type = 'const'\n",
    "        loss, acc = train_with_idx(indexes, adaptive_type)\n",
    "        acc_list['const_mean'].append(acc)\n",
    "        loss_list['const_mean'].append(loss[-1])\n",
    "        \n",
    "    average_acc_list['mean'].append(np.mean(acc_list['mean']))\n",
    "    average_loss_list['mean'].append(np.mean(loss_list['mean']))\n",
    "    \n",
    "    average_acc_list['full'].append(np.mean(acc_list['full']))\n",
    "    average_loss_list['full'].append(np.mean(loss_list['full']))\n",
    "    \n",
    "    average_acc_list['const_mean'].append(np.mean(acc_list['const_mean']))\n",
    "    average_loss_list['const_mean'].append(np.mean(loss_list['const_mean']))\n",
    "\n"
   ]
  },
  {
   "cell_type": "code",
   "execution_count": 16,
   "metadata": {},
   "outputs": [
    {
     "data": {
      "image/png": "[encoded data removed]",
      "text/plain": [
       "<Figure size 432x288 with 1 Axes>"
      ]
     },
     "metadata": {
      "needs_background": "light"
     },
     "output_type": "display_data"
    }
   ],
   "source": [
    "plt.plot(bs_list, average_acc_list['mean'], label = 'mean')\n",
    "plt.plot(bs_list, average_acc_list['const_mean'], label = 'const mean')\n",
    "#plt.plot(bs_list, acc_list['const_mean'], label = 'const mean')\n",
    "#plt.plot(bs_list, acc_list['const_100'], label = 'const 100')\n",
    "plt.plot(bs_list, average_acc_list['full'], label = 'full')\n",
    "#plt.plot(bs_list, acc_list['new_full_2'], label = 'full contrary 2')\n",
    "plt.plot(bs_list, teacher_acc_list, label = 'teacher')\n",
    "\n",
    "plt.title(f'batch = {batch_size}')\n",
    "plt.legend()\n",
    "plt.xlabel('bs')\n",
    "plt.ylabel('accuracy')\n",
    "plt.show()"
   ]
  },
  {
   "cell_type": "code",
   "execution_count": null,
   "metadata": {},
   "outputs": [],
   "source": []
  },
  {
   "cell_type": "code",
   "execution_count": null,
   "metadata": {},
   "outputs": [],
   "source": []
  },
  {
   "cell_type": "code",
   "execution_count": null,
   "metadata": {},
   "outputs": [],
   "source": []
  },
  {
   "cell_type": "code",
   "execution_count": null,
   "metadata": {},
   "outputs": [],
   "source": []
  },
  {
   "cell_type": "code",
   "execution_count": null,
   "metadata": {},
   "outputs": [],
   "source": []
  },
  {
   "cell_type": "code",
   "execution_count": null,
   "metadata": {},
   "outputs": [],
   "source": []
  }
 ],
 "metadata": {
  "kernelspec": {
   "display_name": "Python 3",
   "language": "python",
   "name": "python3"
  },
  "language_info": {
   "codemirror_mode": {
    "name": "ipython",
    "version": 3
   },
   "file_extension": ".py",
   "mimetype": "text/x-python",
   "name": "python",
   "nbconvert_exporter": "python",
   "pygments_lexer": "ipython3",
   "version": "3.8.5"
  }
 },
 "nbformat": 4,
 "nbformat_minor": 4
}
